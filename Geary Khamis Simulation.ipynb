{
 "cells": [
  {
   "cell_type": "markdown",
   "metadata": {},
   "source": [
    "# GSE Problem Set 4\n",
    "### David Ngo\n",
    "\n",
    "## Question 1\n",
    "\n",
    "Using the program that calculates Geary Khamis indices that Fisher wrote, construct an example of two countries over five years with four goods in each year. Construct pseudo-data that have these properties:   \n",
    "    (1) The first country grows at gross rate $1+g_1$ and the second country has no growth.  \n",
    "    (2) Rach country has its own gross inflation rate $1+\\pi_1$ and $1+ \\pi_2$  \n",
    "    (3) There are small idiosyncratic price shocks in every sector in every year.    \n",
    "Implement the program and explain what you discover about real economic growth, inflation rates, and the real exchange rate. I expect a nice table summarizing your findings.  "
   ]
  },
  {
   "cell_type": "code",
   "execution_count": 1,
   "metadata": {},
   "outputs": [],
   "source": [
    "# Import packages\n",
    "import numpy as np\n",
    "import pandas as pd\n",
    "import math\n",
    "from scipy import optimize as opt\n",
    "import matplotlib.pyplot as plt\n",
    "\n",
    "# Set seed for RNG\n",
    "np.random.seed(13)\n",
    "\n",
    "# Number of commodities\n",
    "Goods = ['Good 1', 'Good 2', 'Good 3', 'Good 4']\n",
    "N = 4\n",
    "# Number of countries (5 countries over 2 years)\n",
    "Names = ['Avalon','Narnia']\n",
    "C = 2\n",
    "# Number of years\n",
    "Year_names = ['1099', '1100', '1101', '1102', '1103']\n",
    "Year = 5\n",
    "# There are two types of data\n",
    "Type_names = ['Values','Prices']\n",
    "Type = 2"
   ]
  },
  {
   "cell_type": "code",
   "execution_count": 2,
   "metadata": {},
   "outputs": [
    {
     "name": "stdout",
     "output_type": "stream",
     "text": [
      "Avalon Values\n",
      "          Good 1      Good 2     Good 3      Good 4\n",
      "1099  492.848258  168.512257  33.519280  285.877416\n",
      "1100  526.334045  179.153448  31.126356  321.354429\n",
      "1101  544.801235  185.435450  22.462267  324.184251\n",
      "1102  569.624866  190.019436  31.139508  326.800492\n",
      "1103  568.828488  199.868471  47.278052  318.937890\n",
      "Avalon Prices\n",
      "        Good 1    Good 2    Good 3    Good 4\n",
      "1099  6.337235  7.094022  0.406650  2.960162\n",
      "1100  6.507508  7.251917  0.363096  3.199533\n",
      "1101  6.476762  7.217505  0.251949  3.103565\n",
      "1102  6.511417  7.111464  0.335844  3.008280\n",
      "1103  6.252224  7.192369  0.490289  2.822984\n",
      "Narnia Values\n",
      "          Good 1       Good 2       Good 3       Good 4\n",
      "1099  289.320799  1951.750822  1131.637647  2632.681592\n",
      "1100  300.888840  2042.658827  1194.610029  2756.278075\n",
      "1101  306.281595  2142.802144  1249.867909  2915.239194\n",
      "1102  326.265249  2247.781796  1325.655129  3051.098446\n",
      "1103  336.333980  2361.922255  1378.694141  3209.832057\n",
      "Narnia Prices\n",
      "        Good 1     Good 2     Good 3     Good 4\n",
      "1099  2.974712  43.042321  18.580603  33.947022\n",
      "1100  3.093651  45.047132  19.614561  35.540733\n",
      "1101  3.149098  47.255611  20.521852  37.590452\n",
      "1102  3.354564  49.570747  21.766218  39.342284\n",
      "1103  3.458088  52.087908  22.637077  41.389069\n"
     ]
    }
   ],
   "source": [
    "# Construct pseudo data\n",
    "\n",
    "# Generate uniformly distributed numbers from range 0 to q_scale\n",
    "scale1 = 100\n",
    "q_base = [scale1*np.random.rand(N) for i in range(int(C))]\n",
    "\n",
    "# Crountries grow at different rates\n",
    "growth = [0.04, 0.0]\n",
    "\n",
    "# Three dimensional array with Country, Year, and Goods\n",
    "quantities = [[q_base[j]*(1+growth[j])**i for i in range(int(Year))] for j in range(int(C))]\n",
    "\n",
    "# Prices\n",
    "scale = [10,50]\n",
    "p_base = [scale[i]*np.random.rand(N) for i in range(int(C))]\n",
    "\n",
    "# Inflation rates are different\n",
    "inflation = [0.0, 0.05]\n",
    "scale = [0.1,0.1] # determines the variance of the shocks to inflation by sector\n",
    "prices = [[(p_base[j]*(1+inflation[j])**i) + (scale[j]*np.random.randn(N)) for i in range(int(Year))] for j in range(int(C))]\n",
    "\n",
    "prices = np.array(prices)\n",
    "\n",
    "values = prices*quantities\n",
    "\n",
    "data = np.array([values, prices])\n",
    "\n",
    "# Print values of each good for each country overtime (print pseudo data)\n",
    "for i in range(int(C)):\n",
    "    for j in range(int(Type)):\n",
    "        print(Names[i],Type_names[j])\n",
    "        print(pd.DataFrame (data[j,i,:,:], columns = Goods, index = Year_names))"
   ]
  },
  {
   "cell_type": "code",
   "execution_count": 3,
   "metadata": {},
   "outputs": [],
   "source": [
    "# Now we work with the pseudo data. We first break out the data\n",
    "\n",
    "Values = data[0] \n",
    "prices = data[1] \n",
    "Quantities = values/prices \n",
    "\n",
    "# Concatenate everything to eliminate the dimension having to do with country\n",
    "Quantities = np.concatenate([Quantities[0,:,:], Quantities[1,:,:]])\n",
    "Values = np.concatenate([data[0,0,:,:],data[0,1,:,:]])\n",
    "\n",
    "# There are N goods\n",
    "# There are C*Year \"countries\"\n",
    "\n",
    "c_one = np.ones((N,1)) # column vector of ones\n",
    "r_ones = np.ones((1,C*Year)) #row vector of ones; keep track of country years\n",
    "\n",
    "GDP = np.dot(Values, c_one) # matrix manipulation\n",
    "World_Q = np.dot(r_ones, Quantities)\n",
    "\n",
    "GDP_shares = Values/GDP # divide by columns\n",
    "Q_shares = Quantities/World_Q # divide by rows\n",
    "\n",
    "## See pp. 245-42 6 in Balk\n",
    "\n",
    "M = np.zeros((C*Year,C*Year))\n",
    "\n",
    "for i in range(C*Year):\n",
    "    for j in range(C*Year):\n",
    "        M[i,j] = np.dot(np.multiply(GDP_shares[i,:],Q_shares[j,:]),c_one)\n",
    "\n",
    "I = np.identity(C*Year)\n",
    "R = np.ones((C*Year,C*Year)) \n",
    "R[:0,] = 1 # see Balk \n",
    "r = np.ones(C*Year)\n",
    "#r[0] = 1 # see Balk\n",
    "Q_GK = np.dot(r,np.linalg.inv(M-I+R))\n",
    "PPP_GK = np.transpose(GDP)/Q_GK \n",
    "World_Prices = np.divide(np.dot(Q_GK, GDP_shares),World_Q)"
   ]
  },
  {
   "cell_type": "code",
   "execution_count": 4,
   "metadata": {},
   "outputs": [
    {
     "name": "stdout",
     "output_type": "stream",
     "text": [
      "             GK-Quantities  GK-Price levels\n",
      "Avalon 1099          0.091       10,760.396\n",
      "Avalon 1100          0.095       11,161.076\n",
      "Avalon 1101          0.099       10,923.672\n",
      "Avalon 1102          0.103       10,900.515\n",
      "Avalon 1103          0.107       10,643.781\n",
      "Narnia 1099          0.101       59,303.270\n",
      "Narnia 1100          0.101       62,157.590\n",
      "Narnia 1101          0.101       65,315.173\n",
      "Narnia 1102          0.101       68,639.197\n",
      "Narnia 1103          0.101       71,957.019\n",
      "      PPP Exchange Rate  Avalon growth  Narnia growth  Relative size of Avalon\n",
      "1099              5.511            nan            nan                    0.900\n",
      "1100              5.569          0.039         -0.000                    0.936\n",
      "1101              5.979          0.039          0.000                    0.974\n",
      "1102              6.297          0.039         -0.000                    1.012\n",
      "1103              6.760          0.039          0.000                    1.053\n"
     ]
    }
   ],
   "source": [
    "# Make tables\n",
    "\n",
    "results = np.zeros((10,2))\n",
    "results[:,0] = Q_GK\n",
    "results[:,1] = PPP_GK[0,:]\n",
    "\n",
    "# Reduce decimal points to 2\n",
    "pd.options.display.float_format = '{:,.3f}'.format\n",
    "\n",
    "Names = ['GK-Quantities', 'GK-Price levels']\n",
    "\n",
    "country_years = ['Avalon 1099', 'Avalon 1100', 'Avalon 1101', 'Avalon 1102', 'Avalon 1103', 'Narnia 1099', 'Narnia 1100', 'Narnia 1101', 'Narnia 1102', 'Narnia 1103']\n",
    "\n",
    "df1 = pd.DataFrame (results,columns = Names, index = country_years)\n",
    "\n",
    "Xrate = PPP_GK[0,5:10]/PPP_GK[0,0:5] # The exchange rate defined as how many units of B currency it takes to buy one unit of A currency\n",
    "\n",
    "Names = ['PPP Exchange Rate']\n",
    "\n",
    "df2 = pd.DataFrame (Xrate, columns = Names, index = Year_names)\n",
    "Agrowth = np.insert([(np.log(Q_GK[1:5])-np.log(Q_GK[:4]))],0,math.nan)\n",
    "Bgrowth = np.insert([np.log(Q_GK[6:10])-np.log(Q_GK[5:9])],0,math.nan) \n",
    "\n",
    "df2['Avalon growth'] = Agrowth \n",
    "df2['Narnia growth'] = Bgrowth \n",
    "df2['Relative size of Avalon'] = Q_GK[0:5]/Q_GK[5:10]\n",
    "\n",
    "print(df1) \n",
    "print(df2)"
   ]
  },
  {
   "cell_type": "markdown",
   "metadata": {},
   "source": [
    "In this instance, we look at the mythical land of Avalon and the magical country of Avalon in the years 1099-1103. Avalon has a growth rate of 4% while Narnia has a growth rate of 0%. The base year quantities were randomly chosen, each country were given different inflation rates, and their prices expanded each year by the same respective rates. We also had random shocks to prices to reflect relative price changes from year to year. From GK-quantities, we find that Avalon initially had less goods than Narnia but grew overtime and grew larger than Narnia while Narnia's quantity of goods remained stagnant. \n",
    "\n",
    "From the above graph, we can see how real economic growth affects the real exchange rate between countries. In looking at the PPP exchange rate (derived by dividing Narnia price levels by Avalon price levels for a given year), we find that Narnia's prices were big relative to Avalon's prices. In the year 1099, the PPP exchange rate 5.511 meant that a person would have to pay 5.511 times Narnia currency to buy one good in Avalon currency. Avalon's growth rate overtime results in the relative size of Avalon becoming larger than Narnia. Also, Narnia's much higher inflation rate results in greater increases price levels overtime relative to Avalon (Narnia's currency losing value relative to Avalon). Despite random shocks in prices, both the growing size of Avalon and the increasing difference in price levels between the two countries reuslts in the PPP exchange rate becaming larger overtime. By year 1103, it would cost a person 6.760 times Narnia currency to buy one good in Avalon currency. Narnia's currency became weaker relative to Narnia from 1099 to 1103."
   ]
  },
  {
   "cell_type": "markdown",
   "metadata": {},
   "source": [
    "## Question 2\n",
    "\n",
    "Extend Fisher's code that solves for optimal savings and investment from two periods to three periods.  \n",
    "Show what happens to savings in each period as the agent becomes more patient (larger $\\beta$), as the agent's savings decision become more responsive to interest rate changes (smaller $\\rho$), and as total factor productivity increases (larger $A$)."
   ]
  },
  {
   "cell_type": "code",
   "execution_count": 5,
   "metadata": {},
   "outputs": [],
   "source": [
    "def ps4(A, beta, rho): # define the function\n",
    "    Y1 = A*K0**alpha # GDP at time 1\n",
    "    # utility function for a three-period model\n",
    "    def f(c):\n",
    "        if rho == 1:\n",
    "            u = np.log(c[0]) + beta*np.log(c[1]) + (beta**2)*np.log(c[2]) # need to check\n",
    "        else:\n",
    "            u = (c[0]**(1-rho) + beta*c[1]**(1-rho))/(1-rho)+ (beta**2)*c[2]**(1-rho)/(1-rho) # need to check\n",
    "        return -u\n",
    "\n",
    "    def MRS(c):\n",
    "        if rho ==1:\n",
    "            MRS = [1/c[0], beta/c[1], (beta**2)/c[2]] # need to check\n",
    "        else: \n",
    "            MRS = [c[0]**(-rho), beta*c[1]**(-rho), (beta**2)*c[2]**(-rho)] # need to check\n",
    "        return MRS\n",
    "\n",
    "    x0 = [5,5,5] # starting points\n",
    "    bnds = ((0.5,200),(0.5,200), (0.5,200)) # bounds\n",
    "\n",
    "    cons = (\n",
    "        {'type': 'ineq', 'fun': lambda x: np.array([A*(Y1-x[0])**alpha-x[1]])}, # need to check\n",
    "        {'type': 'ineq', 'fun': lambda x: np.array([A*(A*(Y1-x[0])**alpha-x[1])**alpha-x[2]])}  # need to check\n",
    "            )\n",
    "    cx = opt.minimize(f, x0, bounds=bnds, constraints = cons)\n",
    "    c = cx['x']\n",
    "    prices = MRS(c)\n",
    "    interest_rates = [prices[0]/prices[1], prices[1]/prices[2]]\n",
    "    if cx['success'] == True:\n",
    "        return(interest_rates) # return interest rates\n",
    "    \n",
    "    return('Problem optimizing')"
   ]
  },
  {
   "cell_type": "markdown",
   "metadata": {},
   "source": [
    "### What happens to savings in each period as the agent becomes more patient (larger $\\beta$):"
   ]
  },
  {
   "cell_type": "code",
   "execution_count": 6,
   "metadata": {},
   "outputs": [
    {
     "data": {
      "image/png": "[encoded data removed]",
      "text/plain": [
       "<Figure size 432x288 with 1 Axes>"
      ]
     },
     "metadata": {
      "needs_background": "light"
     },
     "output_type": "display_data"
    }
   ],
   "source": [
    "A = [5,5.5,6,6.5]\n",
    "K0 = 2 # initial capital\n",
    "alpha = 0.33 # capital's share\n",
    "beta = 0.9\n",
    "rho = 0.9\n",
    "results1 = [ps4(a,0.9,0.9) for a in A]\n",
    "\n",
    "data = results1\n",
    "X = np.arange(2)\n",
    "fig = plt.figure()\n",
    "ax = fig.add_axes([0,0,1,1])\n",
    "ax.bar(X + 0.00, data[0], color = 'tomato', width = 0.2)\n",
    "ax.bar(X + 0.20, data[1], color = 'indigo', width = 0.2)\n",
    "ax.bar(X + 0.40, data[2], color = 'teal', width = 0.2)\n",
    "ax.bar(X + 0.60, data[3], color = 'gold', width = 0.2)\n",
    "ax.legend(labels=['A=5', 'A=5.5', 'A=6', 'A=6.5'])\n",
    "ax.set_xlabel('Two periods')\n",
    "ax.set_ylabel('Gross interest rates')\n",
    "ax.set_xticks(np.arange(2)+0.3)\n",
    "ax.set_xticklabels(('First', 'Second'))\n",
    "ax.set_title('Effect of the Marginal Product of Capital')\n",
    "ax.set_ylim(1.05, 1.36)\n",
    "plt.show()"
   ]
  },
  {
   "cell_type": "markdown",
   "metadata": {},
   "source": [
    "### What happens to savings in each period as the agent's savings decision become more responsive to interest rate changes (smaller $\\rho$)"
   ]
  },
  {
   "cell_type": "code",
   "execution_count": 7,
   "metadata": {},
   "outputs": [
    {
     "data": {
      "image/png": "[encoded data removed]",
      "text/plain": [
       "<Figure size 432x288 with 1 Axes>"
      ]
     },
     "metadata": {
      "needs_background": "light"
     },
     "output_type": "display_data"
    }
   ],
   "source": [
    "A = 6.0\n",
    "K0 = 2 # initial capital\n",
    "alpha = 0.33 # capital's share\n",
    "rho = 0.9\n",
    "B = [0.6, 0.7, 0.8, 0.9]\n",
    "result2 = [ps4(6,beta,0.9) for beta in B]\n",
    "\n",
    "data = result2\n",
    "X = np.arange(2)\n",
    "fig = plt.figure()\n",
    "ax = fig.add_axes([0,0,1,1])\n",
    "ax.bar(X + 0.00, data[0], color = 'tomato', width = 0.2)\n",
    "ax.bar(X + 0.20, data[1], color = 'indigo', width = 0.2)\n",
    "ax.bar(X + 0.40, data[2], color = 'teal', width = 0.2)\n",
    "ax.bar(X + 0.60, data[3], color = 'gold', width = 0.2)\n",
    "ax.legend(labels=[r'$\\beta=0.6$', r'$\\beta=0.7$', r'$\\beta=0.8$', r'$\\beta=0.9$'])\n",
    "ax.set_xlabel('Two periods')\n",
    "ax.set_ylabel('Gross interest rates')\n",
    "ax.set_xticks(np.arange(2)+0.3)\n",
    "ax.set_xticklabels(('First', 'Second'))\n",
    "ax.set_title('Effect of the Discount Factor')\n",
    "ax.set_ylim(1.05, 1.85)\n",
    "plt.show()"
   ]
  },
  {
   "cell_type": "markdown",
   "metadata": {},
   "source": [
    "### Show what happens to savings in each period as total factor productivity increases (larger $A$)."
   ]
  },
  {
   "cell_type": "code",
   "execution_count": 8,
   "metadata": {},
   "outputs": [
    {
     "data": {
      "image/png": "[encoded data removed]",
      "text/plain": [
       "<Figure size 432x288 with 1 Axes>"
      ]
     },
     "metadata": {
      "needs_background": "light"
     },
     "output_type": "display_data"
    }
   ],
   "source": [
    "A = 6.0\n",
    "K0 = 2 # initial capital\n",
    "alpha = 0.33 # capital's share\n",
    "beta = 0.9\n",
    "Rho = [0.9, 1, 9, 81]\n",
    "results3 = [ps4(6,0.9,r) for r in Rho]\n",
    "\n",
    "data = results3\n",
    "X = np.arange(2)\n",
    "fig = plt.figure()\n",
    "ax = fig.add_axes([0,0,1,1])\n",
    "\n",
    "ax.bar(X + 0.00, data[0], color = 'tomato', width = 0.2)\n",
    "ax.bar(X + 0.20, data[1], color = 'indigo', width = 0.2)\n",
    "ax.bar(X + 0.40, data[2], color = 'teal', width = 0.2)\n",
    "ax.bar(X + 0.60, data[3], color = 'gold', width = 0.2)\n",
    "\n",
    "ax.legend(labels=[r'$\\beta=0.9$', r'$\\beta=1.0$', r'$\\beta=9$', r'$\\beta=81$'])\n",
    "ax.set_xlabel('Two periods')\n",
    "ax.set_ylabel('Gross interest rates')\n",
    "ax.set_xticks(np.arange(2)+0.3)\n",
    "ax.set_xticklabels(('First', 'Second'))\n",
    "ax.set_title('Effect of the Inter-temporal Elasticity of Substitution')\n",
    "ax.set_ylim(1.05, 1.38)\n",
    "plt.show()"
   ]
  },
  {
   "cell_type": "markdown",
   "metadata": {},
   "source": [
    "# Lessons learned\n",
    "<ol>\n",
    "    <li>One can put functions inside of a function in Python.  This feature is a big help. </li>\n",
    "    <li>The optimizer doesn't always work.  It depends upon initial conditions. </li>\n",
    "    <li>Higher the marginal efficiency of investment $A$ entails higher real interest rates. </li>\n",
    "     <li>Higher discount factor $\\beta$ entails lower real interest rates. </li>\n",
    "     <li>Higher $\\rho$ may entail less variability of the real interst rate across time. </li>\n",
    "</ol>"
   ]
  }
 ],
 "metadata": {
  "kernelspec": {
   "display_name": "Python 3",
   "language": "python",
   "name": "python3"
  },
  "language_info": {
   "codemirror_mode": {
    "name": "ipython",
    "version": 3
   },
   "file_extension": ".py",
   "mimetype": "text/x-python",
   "name": "python",
   "nbconvert_exporter": "python",
   "pygments_lexer": "ipython3",
   "version": "3.8.3"
  }
 },
 "nbformat": 4,
 "nbformat_minor": 4
}
