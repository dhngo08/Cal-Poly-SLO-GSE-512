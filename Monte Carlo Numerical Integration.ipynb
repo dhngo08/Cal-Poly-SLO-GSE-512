{
 "cells": [
  {
   "cell_type": "markdown",
   "metadata": {},
   "source": [
    "## GSE 522 Assignment: Practice with Monte Carlo Techniques\n",
    "\n",
    "#### David Ngo"
   ]
  },
  {
   "cell_type": "markdown",
   "metadata": {},
   "source": [
    "Using numerical integration and Monte Carlo simulation, write a program that randomly draws $(x, y)$ values in $[-\\pi,\\pi]\\times [0,1]$ and use the values to compute $\\int^\\pi_{-\\pi}|cos(2x)|dx=4$."
   ]
  },
  {
   "cell_type": "markdown",
   "metadata": {},
   "source": [
    "The code is as follows:"
   ]
  },
  {
   "cell_type": "code",
   "execution_count": 1,
   "metadata": {},
   "outputs": [],
   "source": [
    "# import libraries\n",
    "import math\n",
    "import numpy as np\n",
    "from scipy import random\n",
    "\n",
    "# string 'fx' is a function in terms of x\n",
    "# a is the lower limit\n",
    "# b is the upper limit\n",
    "# n is the sample size\n",
    "\n",
    "def mc_integral(fx,a,b,n): # defining monte carlo numerical integration method\n",
    "    func  = lambda x: eval(fx) # argument x and function fx; string fx is parsed and evaluated as a Python expression\n",
    "    xrand = random.uniform(a,b,n) # generating x values from a normal distribution with range a to b\n",
    "    sum_fx = 0 # empty arry to store y values of fx\n",
    "    for i in range(n):\n",
    "        sum_fx += func(xrand[i]) # summation of computing x values into fx to generate y values\n",
    "    answer = (b-a)/n * sum_fx # computing the definite integral of fx between a and b\n",
    "    return answer\n"
   ]
  },
  {
   "cell_type": "markdown",
   "metadata": {},
   "source": [
    "Now let us use the defined function $mc\\_integral$ to integrate $|cos(2x)|$ with lower bound $-\\pi$, upper bound $\\pi$, and sample size $50,000$."
   ]
  },
  {
   "cell_type": "code",
   "execution_count": 2,
   "metadata": {},
   "outputs": [
    {
     "name": "stdout",
     "output_type": "stream",
     "text": [
      "4.000766605196625\n"
     ]
    }
   ],
   "source": [
    "print(mc_integral('abs(math.cos(2*x))',-np.pi,np.pi, 50000))"
   ]
  },
  {
   "cell_type": "markdown",
   "metadata": {},
   "source": [
    "With the above code, we find that $\\int^\\pi_{-\\pi}|cos(2x)|dx\\approx4$, a value very close to 4."
   ]
  }
 ],
 "metadata": {
  "kernelspec": {
   "display_name": "Python 3",
   "language": "python",
   "name": "python3"
  },
  "language_info": {
   "codemirror_mode": {
    "name": "ipython",
    "version": 3
   },
   "file_extension": ".py",
   "mimetype": "text/x-python",
   "name": "python",
   "nbconvert_exporter": "python",
   "pygments_lexer": "ipython3",
   "version": "3.8.3"
  }
 },
 "nbformat": 4,
 "nbformat_minor": 4
}
